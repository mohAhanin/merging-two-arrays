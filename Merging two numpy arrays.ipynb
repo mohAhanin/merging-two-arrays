{
 "cells": [
  {
   "cell_type": "code",
   "execution_count": 1,
   "id": "caf4ff94",
   "metadata": {},
   "outputs": [],
   "source": [
    "# we can use list data structure but i want to use numpy arrays to do a little bit more coding"
   ]
  },
  {
   "cell_type": "code",
   "execution_count": 2,
   "id": "d282ff97",
   "metadata": {},
   "outputs": [],
   "source": [
    "import random"
   ]
  },
  {
   "cell_type": "code",
   "execution_count": 3,
   "id": "72e33b47",
   "metadata": {},
   "outputs": [],
   "source": [
    "import numpy as np"
   ]
  },
  {
   "cell_type": "code",
   "execution_count": 4,
   "id": "0808dddb",
   "metadata": {},
   "outputs": [],
   "source": [
    "# this function is used to generate random numpy arrays receiving the size of the numpy array and the range \n",
    "def RandomArrayGenerator(size, rangeBeginning, rangeEnding):\n",
    "    tempArr = np.zeros(size) # generating an array with all zero as elements\n",
    "    for i in range(tempArr.shape[0]): #iterating through the array to change the elements to random integers as elements\n",
    "        tempArr[i] = random.randint(rangeBeginning, rangeEnding)\n",
    "    return tempArr"
   ]
  },
  {
   "cell_type": "code",
   "execution_count": 5,
   "id": "9dd9396f",
   "metadata": {},
   "outputs": [
    {
     "data": {
      "text/plain": [
       "array([ 4.,  2.,  2., 10.,  7.])"
      ]
     },
     "execution_count": 5,
     "metadata": {},
     "output_type": "execute_result"
    }
   ],
   "source": [
    "array1 = RandomArrayGenerator(5, 1, 10)\n",
    "array1"
   ]
  },
  {
   "cell_type": "code",
   "execution_count": 6,
   "id": "810bb3ab",
   "metadata": {},
   "outputs": [
    {
     "data": {
      "text/plain": [
       "array([ 4.,  7., 10.,  5.,  9.])"
      ]
     },
     "execution_count": 6,
     "metadata": {},
     "output_type": "execute_result"
    }
   ],
   "source": [
    "array2 = RandomArrayGenerator(5, 1, 10)\n",
    "array2"
   ]
  },
  {
   "cell_type": "code",
   "execution_count": 7,
   "id": "b8f68534",
   "metadata": {},
   "outputs": [],
   "source": [
    "# this function is used to merge two arrays \n",
    "# although i couldve used np.concatenate to stick the arrays together, i decided to do it on my own from scratch \n",
    "# and i know that its not that optimized but it was worthy coding again like old days i really enjoyed it \n",
    "# i also couldve used list as the data structure but i found myself interested in make the task a little bit trickier so i used \n",
    "# numpy arrays \n",
    "# duplicate checking and sorting isnt done yet\n",
    "\n",
    "def mergeTwoArrays(first_array, second_array):\n",
    "    first_array_shape = first_array.shape[0] # size of the first array (supposing its 1D)\n",
    "    second_array_shape = second_array.shape[0] # size of the second array (supposing its 1D)\n",
    "    size = first_array_shape + second_array_shape # size of the whole array including two arrays\n",
    "    mergedArray = np.zeros(size) # initializing a new array to put those arrays together \n",
    "    \n",
    "    for i in range(first_array_shape): #iterating through the first array and adding its elements to the new array \n",
    "        mergedArray[i] = first_array[i]\n",
    "    \n",
    "    for j in range(second_array_shape):\n",
    "        mergedArray[first_array_shape + j] = second_array[j] #doing the same as above \n",
    "    \n",
    "    return mergedArray"
   ]
  },
  {
   "cell_type": "code",
   "execution_count": 8,
   "id": "3c928406",
   "metadata": {},
   "outputs": [
    {
     "data": {
      "text/plain": [
       "array([ 4.,  2.,  2., 10.,  7.,  4.,  7., 10.,  5.,  9.])"
      ]
     },
     "execution_count": 8,
     "metadata": {},
     "output_type": "execute_result"
    }
   ],
   "source": [
    "mergedArray = mergeTwoArrays(array1, array2)\n",
    "mergedArray\n",
    "#as you can see we have the elements of each array all together but there are a lot of duplicate values and its not sorted"
   ]
  },
  {
   "cell_type": "code",
   "execution_count": 9,
   "id": "f59c418c",
   "metadata": {},
   "outputs": [],
   "source": [
    "# still dont want to use any method like  np.unique() so i do it all by myself like what we did in basic programming using C++\n",
    "# this function drops the duplicates and return the cleaned numpy array\n",
    "# you may think its getting complicated but trust me coding is fun \n",
    "\n",
    "def dropDuplicates(array):\n",
    "    size = array.shape[0] #SIZE OF OUR NP ARRAY\n",
    "    newArr = np.array([array[0]])  # Start with the first element and creating a new array and initializing its first element\n",
    "    for i in range(1, size): # checking the indexes 1 to last because 0 is already iterated \n",
    "        temp = array[i] #temp\n",
    "        for j in range(newArr.shape[0]): #iterating the array to check if there is any equal element, if not appending the value\n",
    "            if temp == newArr[j]:\n",
    "                break\n",
    "        else:\n",
    "            newArr = np.append(newArr, temp)\n",
    "\n",
    "    return newArr"
   ]
  },
  {
   "cell_type": "code",
   "execution_count": 10,
   "id": "52866fe5",
   "metadata": {},
   "outputs": [
    {
     "data": {
      "text/plain": [
       "array([ 4.,  2., 10.,  7.,  5.,  9.])"
      ]
     },
     "execution_count": 10,
     "metadata": {},
     "output_type": "execute_result"
    }
   ],
   "source": [
    "dropDuplicates(mergedArray) # checking to see if the function above worked "
   ]
  },
  {
   "cell_type": "code",
   "execution_count": 11,
   "id": "11ec342d",
   "metadata": {},
   "outputs": [],
   "source": [
    "# i want to use this function to find the minimum value and its index \n",
    "def minFinder(array):\n",
    "    min_val = array[0]\n",
    "    min_index = 0\n",
    "    for i in range(1, array.shape[0]):\n",
    "        if array[i] < min_val:\n",
    "            min_val = array[i]\n",
    "            min_index = i\n",
    "    return min_val, min_index"
   ]
  },
  {
   "cell_type": "code",
   "execution_count": 12,
   "id": "b3ff1f95",
   "metadata": {},
   "outputs": [
    {
     "data": {
      "text/plain": [
       "(2.0, 1)"
      ]
     },
     "execution_count": 12,
     "metadata": {},
     "output_type": "execute_result"
    }
   ],
   "source": [
    "minFinder(dropDuplicates(mergedArray)) #checking my function to see if it works "
   ]
  },
  {
   "cell_type": "code",
   "execution_count": 13,
   "id": "e044afaa",
   "metadata": {},
   "outputs": [],
   "source": [
    "# dont want to use np.sort() in this task so ...\n",
    "# we do the sorting with the help of minimum finder function i wrote above\n",
    "def Sorter(array):\n",
    "    sortedArray = np.zeros(array.shape[0])  # initialize an empty array of the same size\n",
    "    array_copy = np.copy(array)  # creating a copy to avoid modifying the original array\n",
    "    \n",
    "    for i in range(array.shape[0]):  # iterate for each element in the original array\n",
    "        min_val, min_index = minFinder(array_copy)\n",
    "        sortedArray[i] = min_val  # store the minimum value in sorted array\n",
    "        array_copy = np.delete(array_copy, min_index)  # remove the minimum element\n",
    "    \n",
    "    return sortedArray"
   ]
  },
  {
   "cell_type": "code",
   "execution_count": 14,
   "id": "b72addd3",
   "metadata": {},
   "outputs": [
    {
     "data": {
      "text/plain": [
       "array([ 2.,  4.,  5.,  7.,  9., 10.])"
      ]
     },
     "execution_count": 14,
     "metadata": {},
     "output_type": "execute_result"
    }
   ],
   "source": [
    "Sorter(dropDuplicates(mergeTwoArrays(array1, array2)))"
   ]
  },
  {
   "cell_type": "code",
   "execution_count": 15,
   "id": "5f57569b",
   "metadata": {},
   "outputs": [],
   "source": [
    "# i guess i did everything modular"
   ]
  },
  {
   "cell_type": "code",
   "execution_count": 16,
   "id": "6aac2989",
   "metadata": {},
   "outputs": [],
   "source": [
    "# function to merge, remove duplicates and sort\n",
    "def mergeDropSort(array1, array2):\n",
    "    mergedArray = mergeTwoArrays(array1, array2)  # merge the arrays\n",
    "    uniqueArray = dropDuplicates(mergedArray)  # remove duplicates\n",
    "    sortedArray = Sorter(uniqueArray)  # sort the array\n",
    "    return sortedArray"
   ]
  },
  {
   "cell_type": "code",
   "execution_count": 17,
   "id": "eb2da46f",
   "metadata": {},
   "outputs": [
    {
     "name": "stdout",
     "output_type": "stream",
     "text": [
      "Array 1: [4. 6. 1. 7. 9.]\n",
      "Array 2: [10. 10.  4.  8.  9.]\n",
      "Final Merged, Unique, and Sorted Array: [ 1.  4.  6.  7.  8.  9. 10.]\n"
     ]
    }
   ],
   "source": [
    "# using the final function which had everything inside it\n",
    "array1 = RandomArrayGenerator(5, 1, 10)\n",
    "array2 = RandomArrayGenerator(5, 1, 10)\n",
    "\n",
    "finalSortedArray = mergeDropSort(array1, array2)\n",
    "print(\"Array 1:\", array1)\n",
    "print(\"Array 2:\", array2)\n",
    "print(\"Final Merged, Unique, and Sorted Array:\", finalSortedArray)"
   ]
  },
  {
   "cell_type": "code",
   "execution_count": null,
   "id": "2d1cde9e",
   "metadata": {},
   "outputs": [],
   "source": []
  }
 ],
 "metadata": {
  "kernelspec": {
   "display_name": "Python 3 (ipykernel)",
   "language": "python",
   "name": "python3"
  },
  "language_info": {
   "codemirror_mode": {
    "name": "ipython",
    "version": 3
   },
   "file_extension": ".py",
   "mimetype": "text/x-python",
   "name": "python",
   "nbconvert_exporter": "python",
   "pygments_lexer": "ipython3",
   "version": "3.11.3"
  }
 },
 "nbformat": 4,
 "nbformat_minor": 5
}
