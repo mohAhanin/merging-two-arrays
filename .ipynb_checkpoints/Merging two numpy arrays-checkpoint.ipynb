{
 "cells": [
  {
   "cell_type": "code",
   "execution_count": 1,
   "id": "fbd0148d",
   "metadata": {},
   "outputs": [],
   "source": [
    "import random"
   ]
  },
  {
   "cell_type": "code",
   "execution_count": 2,
   "id": "123205af",
   "metadata": {},
   "outputs": [],
   "source": [
    "import numpy as np"
   ]
  },
  {
   "cell_type": "code",
   "execution_count": 14,
   "id": "54321a5e",
   "metadata": {},
   "outputs": [],
   "source": [
    "# this function is used to generate random numpy arrays receiving the size of the numpy array and the range \n",
    "def RandomArrayGenerator(size, rangeBeginning, rangeEnding):\n",
    "    tempArr = np.zeros(size) # generating an array with all zero as elements\n",
    "    for i in range(tempArr.shape[0]): #iterating through the array to change the elements to random integers as elements\n",
    "        tempArr[i] = random.randint(rangeBeginning, rangeEnding)\n",
    "    return tempArr"
   ]
  },
  {
   "cell_type": "code",
   "execution_count": 15,
   "id": "53cb1fce",
   "metadata": {},
   "outputs": [
    {
     "data": {
      "text/plain": [
       "array([ 3.,  6.,  5., 10.,  6.])"
      ]
     },
     "execution_count": 15,
     "metadata": {},
     "output_type": "execute_result"
    }
   ],
   "source": [
    "array1 = RandomArrayGenerator(5, 1, 10)\n",
    "array1"
   ]
  },
  {
   "cell_type": "code",
   "execution_count": 16,
   "id": "cbd1807a",
   "metadata": {},
   "outputs": [
    {
     "data": {
      "text/plain": [
       "array([ 8.,  8.,  5.,  8., 10.])"
      ]
     },
     "execution_count": 16,
     "metadata": {},
     "output_type": "execute_result"
    }
   ],
   "source": [
    "array2 = RandomArrayGenerator(5, 1, 10)\n",
    "array2"
   ]
  },
  {
   "cell_type": "code",
   "execution_count": 26,
   "id": "65565be3",
   "metadata": {},
   "outputs": [],
   "source": [
    "# this function is used to merge two arrays \n",
    "# although i couldve used np.concatenate to stick the arrays together, i decided to do it on my own from scratch \n",
    "# and i know that its not that optimized but it was worthy coding again like old days i really enjoyed it \n",
    "# i also couldve used list as the data structure but i found myself interested in make the task a little bit trickier so i used \n",
    "# numpy arrays \n",
    "# duplicate checking and sorting isnt done yet\n",
    "\n",
    "def mergeTwoArrays(first_array, second_array):\n",
    "    first_array_shape = first_array.shape[0] # size of the first array (supposing its 1D)\n",
    "    second_array_shape = second_array.shape[0] # size of the second array (supposing its 1D)\n",
    "    size = first_array_shape + second_array_shape # size of the whole array including two arrays\n",
    "    mergedArray = np.zeros(size) # initializing a new array to put those arrays together \n",
    "    \n",
    "    for i in range(first_array_shape): #iterating through the first array and adding its elements to the new array \n",
    "        mergedArray[i] = first_array[i]\n",
    "    \n",
    "    for j in range(second_array_shape):\n",
    "        mergedArray[first_array_shape + j] = second_array[j] #doing the same as above \n",
    "    \n",
    "    return mergedArray"
   ]
  },
  {
   "cell_type": "code",
   "execution_count": 27,
   "id": "39318fcc",
   "metadata": {},
   "outputs": [
    {
     "data": {
      "text/plain": [
       "array([ 3.,  6.,  5., 10.,  6.,  8.,  8.,  5.,  8., 10.])"
      ]
     },
     "execution_count": 27,
     "metadata": {},
     "output_type": "execute_result"
    }
   ],
   "source": [
    "mergedArray = mergeTwoArrays(array1, array2)\n",
    "mergedArray\n",
    "#as you can see we have the elements of each array all together but there are a lot of duplicate values and its not sorted"
   ]
  },
  {
   "cell_type": "code",
   "execution_count": 19,
   "id": "aff554c2",
   "metadata": {},
   "outputs": [],
   "source": [
    "# still dont want to use any method from the np so i do it all by myself like what we did in basic programming using C++\n",
    "# this function drops the duplicates and return the cleaned numpy array\n",
    "# you may think its getting complicated but trust me coding is fun \n",
    "\n",
    "def dropDuplicates(array):\n",
    "    size = array.shape[0] #SIZE OF OUR NP ARRAY\n",
    "    newArr = np.array([array[0]])  # Start with the first element and creating a new array and initializing its first element\n",
    "    for i in range(1, size): # checking the indexes 1 to last because 0 is already iterated \n",
    "        temp = array[i] #temp\n",
    "        for j in range(newArr.shape[0]): #iterating the array to check if there is any equal element, if not appending the value\n",
    "            if temp == newArr[j]:\n",
    "                break\n",
    "        else:\n",
    "            newArr = np.append(newArr, temp)\n",
    "\n",
    "    return newArr"
   ]
  },
  {
   "cell_type": "code",
   "execution_count": 20,
   "id": "8f52bad2",
   "metadata": {},
   "outputs": [
    {
     "data": {
      "text/plain": [
       "array([ 3.,  6.,  5., 10.,  8.])"
      ]
     },
     "execution_count": 20,
     "metadata": {},
     "output_type": "execute_result"
    }
   ],
   "source": [
    "dropDuplicates(mergedArray)"
   ]
  },
  {
   "cell_type": "code",
   "execution_count": 21,
   "id": "98cf812f",
   "metadata": {},
   "outputs": [],
   "source": [
    "def minFinder(array):\n",
    "    min_val = array[0]\n",
    "    min_index = 0\n",
    "    for i in range(1, array.shape[0]):\n",
    "        if array[i] < min_val:\n",
    "            min_val = array[i]\n",
    "            min_index = i\n",
    "    return min_val, min_index"
   ]
  },
  {
   "cell_type": "code",
   "execution_count": 22,
   "id": "4e90f291",
   "metadata": {},
   "outputs": [
    {
     "data": {
      "text/plain": [
       "(3.0, 0)"
      ]
     },
     "execution_count": 22,
     "metadata": {},
     "output_type": "execute_result"
    }
   ],
   "source": [
    "minFinder(dropDuplicates(mergedArray))"
   ]
  },
  {
   "cell_type": "code",
   "execution_count": 23,
   "id": "2ccd2f87",
   "metadata": {},
   "outputs": [],
   "source": [
    "def Sorter(array):\n",
    "    sortedArray = np.zeros(array.shape[0])  # Initialize an empty array of the same size\n",
    "    array_copy = np.copy(array)  # Create a copy to avoid modifying the original array\n",
    "    \n",
    "    for i in range(array.shape[0]):  # Iterate for each element in the original array\n",
    "        min_val, min_index = minFinder(array_copy)\n",
    "        sortedArray[i] = min_val  # Store the minimum value in sorted array\n",
    "        array_copy = np.delete(array_copy, min_index)  # Remove the minimum element\n",
    "    \n",
    "    return sortedArray"
   ]
  },
  {
   "cell_type": "code",
   "execution_count": 24,
   "id": "a313a0e0",
   "metadata": {},
   "outputs": [
    {
     "data": {
      "text/plain": [
       "array([ 3.,  5.,  6.,  8., 10.])"
      ]
     },
     "execution_count": 24,
     "metadata": {},
     "output_type": "execute_result"
    }
   ],
   "source": [
    "Sorter(dropDuplicates(mergedArray))"
   ]
  },
  {
   "cell_type": "code",
   "execution_count": null,
   "id": "a1634d81",
   "metadata": {},
   "outputs": [],
   "source": []
  }
 ],
 "metadata": {
  "kernelspec": {
   "display_name": "Python 3 (ipykernel)",
   "language": "python",
   "name": "python3"
  },
  "language_info": {
   "codemirror_mode": {
    "name": "ipython",
    "version": 3
   },
   "file_extension": ".py",
   "mimetype": "text/x-python",
   "name": "python",
   "nbconvert_exporter": "python",
   "pygments_lexer": "ipython3",
   "version": "3.11.3"
  }
 },
 "nbformat": 4,
 "nbformat_minor": 5
}
